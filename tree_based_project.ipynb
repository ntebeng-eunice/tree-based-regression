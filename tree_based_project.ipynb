{
 "cells": [
  {
   "cell_type": "markdown",
   "id": "e7239e26",
   "metadata": {},
   "source": [
    "# Supervised and Unsupervised Learning Project\n",
    "\n",
    "This notebook contains the tree-based regression and clustering analysis projects."
   ]
  },
  {
   "cell_type": "markdown",
   "id": "bf27440d",
   "metadata": {},
   "source": [
    "## Part 1: Supervised Learning using a Tree-Based Model\n",
    "Use statistical learning to answer a business question."
   ]
  },
  {
   "cell_type": "code",
   "execution_count": null,
   "id": "88724808",
   "metadata": {},
   "outputs": [],
   "source": [
    "\n",
    "# Import libraries\n",
    "import pandas as pd\n",
    "import numpy as np\n",
    "import matplotlib.pyplot as plt\n",
    "from mpl_toolkits import mplot3d\n",
    "import seaborn as sns\n",
    "\n",
    "from sklearn.preprocessing import OneHotEncoder\n",
    "from sklearn.tree import DecisionTreeRegressor, plot_tree\n",
    "from sklearn.model_selection import train_test_split, cross_val_score\n",
    "from sklearn.metrics import mean_squared_error\n"
   ]
  },
  {
   "cell_type": "code",
   "execution_count": null,
   "id": "cbeab446",
   "metadata": {},
   "outputs": [],
   "source": [
    "\n",
    "# Import insurance claim data\n",
    "df = pd.read_csv('ClaimsData.csv', sep=\",\")\n",
    "df.shape\n"
   ]
  },
  {
   "cell_type": "code",
   "execution_count": null,
   "id": "245c5a93",
   "metadata": {},
   "outputs": [],
   "source": [
    "\n",
    "df.head()\n"
   ]
  },
  {
   "cell_type": "code",
   "execution_count": null,
   "id": "1b50fa9d",
   "metadata": {},
   "outputs": [],
   "source": [
    "\n",
    "# One-hot encode the \"Category\" variable\n",
    "ohe = OneHotEncoder(categories='auto')\n",
    "Xd = ohe.fit_transform(df.Category.values.reshape(-1, 1)).toarray()\n",
    "df_ohe = pd.DataFrame(Xd, columns=ohe.get_feature_names_out())\n",
    "\n",
    "# Combine with main dataframe\n",
    "df_to_use1 = pd.concat([df.loc[:, [\"Claim\",\"Mileage\",\"AgeP\"]], df_ohe], axis=1)\n",
    "df_to_use1.head()\n"
   ]
  },
  {
   "cell_type": "code",
   "execution_count": null,
   "id": "5bf8ae15",
   "metadata": {},
   "outputs": [],
   "source": [
    "\n",
    "# Features and response\n",
    "X = df_to_use1.iloc[:, 1:8]\n",
    "y = df_to_use1.loc[:, [\"Claim\"]]\n",
    "X.head()\n",
    "y.head()\n"
   ]
  },
  {
   "cell_type": "code",
   "execution_count": null,
   "id": "af452796",
   "metadata": {},
   "outputs": [],
   "source": [
    "\n",
    "# Split data into training and test sets\n",
    "X_train, X_test, y_train, y_test = train_test_split(X, y, random_state=0)\n",
    "\n",
    "# Fit tree-based model\n",
    "reg = DecisionTreeRegressor(random_state=0)\n",
    "reg.fit(X_train, y_train)\n",
    "\n",
    "# MSE before pruning\n",
    "y_pred = reg.predict(X_test)\n",
    "error = mean_squared_error(y_test, y_pred)\n",
    "print(\"MSE:\", error)\n"
   ]
  },
  {
   "cell_type": "code",
   "execution_count": null,
   "id": "bf2854aa",
   "metadata": {},
   "outputs": [],
   "source": [
    "\n",
    "# Find optimal max leaf nodes\n",
    "nodes = list(range(2,35))\n",
    "regs = [DecisionTreeRegressor(random_state=0, max_leaf_nodes=n).fit(X_train, y_train) for n in nodes]\n",
    "\n",
    "train_scores = [r.score(X_train, y_train) for r in regs]\n",
    "test_scores = [r.score(X_test, y_test) for r in regs]\n",
    "\n",
    "plt.figure()\n",
    "plt.plot(nodes, train_scores, marker='o', label='train')\n",
    "plt.plot(nodes, test_scores, marker='o', label='test')\n",
    "plt.xlabel('Maximum leaf nodes')\n",
    "plt.ylabel('Score')\n",
    "plt.legend()\n",
    "plt.show()\n"
   ]
  },
  {
   "cell_type": "code",
   "execution_count": null,
   "id": "1a3f7261",
   "metadata": {},
   "outputs": [],
   "source": [
    "\n",
    "# Optimal leaf nodes via cross-validation\n",
    "validation_scores = [cross_val_score(DecisionTreeRegressor(random_state=0, max_leaf_nodes=n), X_train, y_train, cv=5).mean() for n in nodes]\n",
    "nodes_optimum = nodes[validation_scores.index(max(validation_scores))]\n",
    "print(\"Optimal max leaf nodes:\", nodes_optimum)\n",
    "\n",
    "# Fit parsimonious tree\n",
    "parsimonious_tree_model = DecisionTreeRegressor(random_state=0, max_leaf_nodes=nodes_optimum)\n",
    "parsimonious_tree_model.fit(X_train, y_train)\n",
    "\n",
    "# MSE after pruning\n",
    "y_pred_optimal = parsimonious_tree_model.predict(X_test)\n",
    "error2 = mean_squared_error(y_test, y_pred_optimal)\n",
    "print(\"MSE before pruning =\", error)\n",
    "print(\"MSE after pruning =\", error2)\n"
   ]
  },
  {
   "cell_type": "markdown",
   "id": "04c84f95",
   "metadata": {},
   "source": [
    "## Part 2: Unsupervised Learning / Clustering\n",
    "K-means and hierarchical clustering on fitness tracker dataset."
   ]
  },
  {
   "cell_type": "code",
   "execution_count": null,
   "id": "b39b5131",
   "metadata": {},
   "outputs": [],
   "source": [
    "\n",
    "# Import clustering libraries\n",
    "from sklearn.cluster import KMeans, AgglomerativeClustering\n",
    "from sklearn.metrics import silhouette_score\n",
    "from scipy.cluster.hierarchy import dendrogram, linkage\n",
    "\n",
    "# Import fitness tracker data\n",
    "df2 = pd.read_csv(\"FitnessTrackerData.txt\", delimiter=\" \")\n",
    "df2.shape\n"
   ]
  },
  {
   "cell_type": "code",
   "execution_count": null,
   "id": "d890e045",
   "metadata": {},
   "outputs": [],
   "source": [
    "\n",
    "# 3D scatter plot\n",
    "fig = plt.figure(figsize=(9,9))\n",
    "ax = plt.axes(projection='3d')\n",
    "ax.scatter3D(df2['Distance'], df2['Frequency'], df2['Pace'])\n",
    "ax.set_xlabel('Distance')\n",
    "ax.set_ylabel('Frequency')\n",
    "ax.set_zlabel('Pace')\n",
    "plt.show()\n"
   ]
  },
  {
   "cell_type": "code",
   "execution_count": null,
   "id": "eb3dffc2",
   "metadata": {},
   "outputs": [],
   "source": [
    "\n",
    "# K-means clustering (elbow method)\n",
    "distortions = []\n",
    "for i in range(1,16):\n",
    "    km = KMeans(n_clusters=i, init='k-means++', random_state=0)\n",
    "    km.fit(df2)\n",
    "    distortions.append(km.inertia_)\n",
    "\n",
    "plt.plot(range(1,16), distortions, marker='o')\n",
    "plt.xlabel('Number of clusters')\n",
    "plt.ylabel('Distortion')\n",
    "plt.show()\n"
   ]
  },
  {
   "cell_type": "code",
   "execution_count": null,
   "id": "56a76d22",
   "metadata": {},
   "outputs": [],
   "source": [
    "\n",
    "# Silhouette method\n",
    "sil = []\n",
    "kmax = 10\n",
    "for k in range(2,kmax+1):\n",
    "    km = KMeans(n_clusters=k, init='k-means++', random_state=0)\n",
    "    km.fit(df2)\n",
    "    sil.append(silhouette_score(df2, km.labels_))\n",
    "\n",
    "plt.plot(range(2,kmax+1), sil, marker='o')\n",
    "plt.xlabel('Number of clusters')\n",
    "plt.ylabel('Silhouette score')\n",
    "plt.show()\n"
   ]
  },
  {
   "cell_type": "code",
   "execution_count": null,
   "id": "6c9c530b",
   "metadata": {},
   "outputs": [],
   "source": [
    "\n",
    "# Final K-means clustering\n",
    "km_final = KMeans(n_clusters=2, init='k-means++', random_state=0)\n",
    "km_final.fit(df2)\n",
    "df2['CLUSTERS'] = km_final.labels_\n",
    "\n",
    "# Plot clusters using seaborn\n",
    "sns.pairplot(df2, hue='CLUSTERS', palette='viridis')\n",
    "plt.show()\n"
   ]
  },
  {
   "cell_type": "code",
   "execution_count": null,
   "id": "d113cc9d",
   "metadata": {},
   "outputs": [],
   "source": [
    "\n",
    "# Hierarchical clustering\n",
    "Z = linkage(df2, method='ward')\n",
    "plt.figure(figsize=(12,8))\n",
    "dendrogram(Z)\n",
    "plt.show()\n",
    "\n",
    "# Agglomerative clustering\n",
    "agg_cluster = AgglomerativeClustering(n_clusters=2, linkage='ward')\n",
    "agg_cluster.fit(df2)\n",
    "df2['CLUSTERS'] = agg_cluster.labels_\n",
    "sns.pairplot(df2, hue='CLUSTERS', palette='viridis')\n",
    "plt.show()\n"
   ]
  }
 ],
 "metadata": {},
 "nbformat": 4,
 "nbformat_minor": 5
}
